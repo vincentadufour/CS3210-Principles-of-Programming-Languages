{
 "cells": [
  {
   "cell_type": "code",
   "execution_count": 1,
   "metadata": {},
   "outputs": [
    {
     "name": "stdout",
     "output_type": "stream",
     "text": [
      "14\n",
      "20\n",
      "1024\n",
      "2.0\n",
      "2.3333333333333335\n",
      "2\n",
      "1\n",
      "0.5\n",
      "0\n",
      "3\n",
      "2\n",
      "True\n",
      "False\n",
      "True\n",
      "True\n",
      "True\n",
      "True\n"
     ]
    }
   ],
   "source": [
    "print(2 + 3 * 4)\n",
    "\n",
    "print((2 + 3) * 4)\n",
    "\n",
    "print(2 ** 10)\n",
    "\n",
    "print(6 / 3)\n",
    "\n",
    "print(7 / 3)\n",
    "\n",
    "print(7 // 3)\n",
    "\n",
    "print(7 % 3)\n",
    "\n",
    "print(3 / 6)\n",
    "\n",
    "print(3 // 6)\n",
    "\n",
    "print(3 % 6)\n",
    "\n",
    "print(2 ** 1)\n",
    "\n",
    "print(False or True)\n",
    "\n",
    "print(5 == 10)\n",
    "\n",
    "print(10 > 5)\n",
    "\n",
    "print((5 >= 1) and (5 <= 10))\n",
    "\n",
    "print((1 < 5) or (10 < 1))\n",
    "\n",
    "print(1 < 5 < 10)"
   ]
  },
  {
   "cell_type": "code",
   "execution_count": 5,
   "metadata": {},
   "outputs": [
    {
     "name": "stdout",
     "output_type": "stream",
     "text": [
      "[[1, 2, 3, 4], [1, 2, 3, 4], [1, 2, 3, 4]]\n",
      "[[1, 2, 45, 4], [1, 2, 45, 4], [1, 2, 45, 4]]\n"
     ]
    }
   ],
   "source": [
    "my_list = [1, 2, 3, 4]\n",
    "\n",
    "big_list = [my_list] * 3\n",
    "\n",
    "print(big_list)\n",
    "\n",
    "my_list[2] = 45\n",
    "\n",
    "print(big_list)"
   ]
  },
  {
   "cell_type": "code",
   "execution_count": 6,
   "metadata": {},
   "outputs": [
    {
     "name": "stdout",
     "output_type": "stream",
     "text": [
      "[1024, 3, True, 6.5, False]\n"
     ]
    }
   ],
   "source": [
    "my_list = [1024, 3, True, 6.5]\n",
    "\n",
    "my_list.append(False)\n",
    "\n",
    "print(my_list)\n",
    "\n",
    "my_list.insert(2,4.5)"
   ]
  },
  {
   "cell_type": "code",
   "execution_count": 7,
   "metadata": {},
   "outputs": [
    {
     "name": "stdout",
     "output_type": "stream",
     "text": [
      "[1024, 3, True, 6.5, False]\n",
      "[1024, 3, 4.5, True, 6.5, False]\n",
      "False\n",
      "[1024, 3, 4.5, True, 6.5]\n",
      "3\n",
      "[1024, 4.5, True, 6.5]\n",
      "[1024, 4.5, 6.5]\n",
      "[4.5, 6.5, 1024]\n",
      "[1024, 6.5, 4.5]\n",
      "1\n",
      "2\n",
      "[1024, 4.5]\n",
      "[4.5]\n"
     ]
    }
   ],
   "source": [
    "my_list = [1024, 3, True, 6.5]\n",
    "\n",
    "my_list.append(False)\n",
    "\n",
    "print(my_list)\n",
    "\n",
    "my_list.insert(2,4.5)\n",
    "\n",
    "print(my_list)\n",
    "\n",
    "print(my_list.pop())\n",
    "\n",
    "print(my_list)\n",
    "\n",
    "print(my_list.pop(1))\n",
    "\n",
    "print(my_list)\n",
    "\n",
    "my_list.pop(2)\n",
    "\n",
    "print(my_list)\n",
    "\n",
    "my_list.sort()\n",
    "\n",
    "print(my_list)\n",
    "\n",
    "my_list.reverse()\n",
    "\n",
    "print(my_list)\n",
    "\n",
    "print(my_list.count(6.5))\n",
    "\n",
    "print(my_list.index(4.5))\n",
    "\n",
    "my_list.remove(6.5)\n",
    "\n",
    "print(my_list)\n",
    "\n",
    "del my_list[0]\n",
    "\n",
    "print(my_list)\n",
    "\n",
    " "
   ]
  },
  {
   "cell_type": "code",
   "execution_count": 8,
   "metadata": {},
   "outputs": [
    {
     "name": "stdout",
     "output_type": "stream",
     "text": [
      "Des Moines\n",
      "{'Iowa': 'Des Moines', 'Wisconsin': 'Madison', 'Utah': 'Salt Lake City'}\n",
      "4\n",
      "Des Moines is the capital of Iowa\n",
      "Madison is the capital of Wisconsin\n",
      "Salt Lake City is the capital of Utah\n",
      "Sacramento is the capital of California\n"
     ]
    }
   ],
   "source": [
    "capitals = {\"Iowa\": \"Des Moines\", \"Wisconsin\": \"Madison\"}\n",
    "\n",
    "print(capitals[\"Iowa\"])\n",
    "\n",
    "capitals[\"Utah\"] = \"Salt Lake City\"\n",
    "\n",
    "print(capitals)\n",
    "\n",
    "capitals[\"California\"] = \"Sacramento\"\n",
    "\n",
    "print(len(capitals))\n",
    "\n",
    "for k in capitals:\n",
    "\n",
    "    print(capitals[k],\"is the capital of\", k)\n"
   ]
  },
  {
   "cell_type": "code",
   "execution_count": 11,
   "metadata": {},
   "outputs": [
    {
     "name": "stdout",
     "output_type": "stream",
     "text": [
      "Your name in all capitals is VINCENT and has length 7\n"
     ]
    }
   ],
   "source": [
    "a_name = input(\"Please enter your name: \")\n",
    "\n",
    "print(\"Your name in all capitals is\", a_name.upper(), \"and has length\", len(a_name))"
   ]
  },
  {
   "cell_type": "code",
   "execution_count": 12,
   "metadata": {},
   "outputs": [
    {
     "name": "stdout",
     "output_type": "stream",
     "text": [
      "greater than\n"
     ]
    }
   ],
   "source": [
    "if pow(2, 3) > 5:\n",
    "    print('greater than')\n",
    "elif pow(2, 3) == 5:\n",
    "    print('equal')\n",
    "else:\n",
    "    print('less than')"
   ]
  },
  {
   "cell_type": "code",
   "execution_count": 13,
   "metadata": {},
   "outputs": [
    {
     "name": "stdout",
     "output_type": "stream",
     "text": [
      "['c', 'a', 't', 'd', 'o', 'g', 'r', 'a', 'b', 'b', 'i', 't']\n"
     ]
    }
   ],
   "source": [
    "word_list = [\"cat\", \"dog\", \"rabbit\"]\n",
    "\n",
    "letter_list = [ ]\n",
    "\n",
    "for a_word in word_list:\n",
    "\n",
    "    for a_letter in a_word:\n",
    "\n",
    "        letter_list.append(a_letter)\n",
    "\n",
    "print(letter_list)"
   ]
  },
  {
   "cell_type": "code",
   "execution_count": 15,
   "metadata": {},
   "outputs": [
    {
     "name": "stdout",
     "output_type": "stream",
     "text": [
      "10\n"
     ]
    }
   ],
   "source": [
    "def test(m, n):\n",
    "\n",
    "    while m % n != 0:\n",
    "\n",
    "        m, n = n, m % n\n",
    "\n",
    "    return n\n",
    "\n",
    "\n",
    "\n",
    "\n",
    "print(test(20, 10))"
   ]
  },
  {
   "cell_type": "code",
   "execution_count": 21,
   "metadata": {},
   "outputs": [
    {
     "name": "stdout",
     "output_type": "stream",
     "text": [
      "3\n",
      "3\n"
     ]
    }
   ],
   "source": [
    "def print_twice(s):\n",
    "    print(s)\n",
    "    return s\n",
    "    \n",
    "\n",
    "x = print_twice(3)\n",
    "print(x)"
   ]
  },
  {
   "cell_type": "code",
   "execution_count": 22,
   "metadata": {},
   "outputs": [
    {
     "name": "stdout",
     "output_type": "stream",
     "text": [
      "12\n",
      "9\n"
     ]
    }
   ],
   "source": [
    "class Square:\n",
    "    def __init__(self, side_length):\n",
    "        self.side = side_length\n",
    "\n",
    "    def perimeter(self):\n",
    "        return 4 * self.side\n",
    "\n",
    "    def area(self):\n",
    "        return self.side * self.side\n",
    "\n",
    "s = Square(3)\n",
    "print(s.perimeter())\n",
    "print(s.area())"
   ]
  },
  {
   "cell_type": "code",
   "execution_count": null,
   "metadata": {},
   "outputs": [
    {
     "name": "stdout",
     "output_type": "stream",
     "text": [
      "Alice\n",
      "1000\n"
     ]
    },
    {
     "ename": "AttributeError",
     "evalue": "'BankAccount' object has no attribute 'balance'",
     "output_type": "error",
     "traceback": [
      "\u001b[0;31m---------------------------------------------------------------------------\u001b[0m",
      "\u001b[0;31mAttributeError\u001b[0m                            Traceback (most recent call last)",
      "Cell \u001b[0;32mIn[24], line 28\u001b[0m\n\u001b[1;32m     25\u001b[0m \u001b[38;5;28mprint\u001b[39m(account\u001b[38;5;241m.\u001b[39mget_balance())  \u001b[38;5;66;03m# Accessing private variable using a method\u001b[39;00m\n\u001b[1;32m     27\u001b[0m \u001b[38;5;66;03m# Attempting to access private variable directly\u001b[39;00m\n\u001b[0;32m---> 28\u001b[0m \u001b[38;5;28mprint\u001b[39m(\u001b[43maccount\u001b[49m\u001b[38;5;241;43m.\u001b[39;49m\u001b[43mbalance\u001b[49m)  \u001b[38;5;66;03m# Will this work?\u001b[39;00m\n",
      "\u001b[0;31mAttributeError\u001b[0m: 'BankAccount' object has no attribute 'balance'"
     ]
    }
   ],
   "source": [
    "class BankAccount:\n",
    "    def __init__(self, owner, balance):\n",
    "        self.owner = owner       # Public attribute\n",
    "        self.__balance = balance # Private attribute\n",
    "\n",
    "    def deposit(self, amount):\n",
    "        self.__balance += amount\n",
    "        print(f\"Deposited {amount}. New balance: {self.__balance}\")\n",
    "\n",
    "    def withdraw(self, amount):\n",
    "        if amount <= self.__balance:\n",
    "            self.__balance -= amount\n",
    "            print(f\"Withdrew {amount}. Remaining balance: {self.__balance}\")\n",
    "        else:\n",
    "            print(\"Insufficient funds!\")\n",
    "\n",
    "    def get_balance(self):\n",
    "        return self.__balance\n",
    "\n",
    "# Creating an instance of the BankAccount class\n",
    "account = BankAccount(\"Alice\", 1000)\n",
    "\n",
    "# Accessing public and private variables\n",
    "print(account.owner)  # Public variable access\n",
    "print(account.get_balance())  # Accessing private variable using a method\n",
    "\n",
    "# Attempting to access private variable directly\n",
    "print(account.__balance)  # Will this work?"
   ]
  },
  {
   "cell_type": "code",
   "execution_count": null,
   "metadata": {},
   "outputs": [],
   "source": []
  }
 ],
 "metadata": {
  "kernelspec": {
   "display_name": "Python 3",
   "language": "python",
   "name": "python3"
  },
  "language_info": {
   "codemirror_mode": {
    "name": "ipython",
    "version": 3
   },
   "file_extension": ".py",
   "mimetype": "text/x-python",
   "name": "python",
   "nbconvert_exporter": "python",
   "pygments_lexer": "ipython3",
   "version": "3.10.12"
  }
 },
 "nbformat": 4,
 "nbformat_minor": 2
}
