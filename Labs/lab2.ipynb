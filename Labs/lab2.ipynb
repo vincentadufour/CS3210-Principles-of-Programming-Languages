{
 "cells": [
  {
   "cell_type": "markdown",
   "metadata": {},
   "source": [
    "## Problem 1\n",
    "Write a Python program to find the intersection (common elements) of two given arrays using Lambda."
   ]
  },
  {
   "cell_type": "code",
   "execution_count": 17,
   "metadata": {},
   "outputs": [
    {
     "name": "stdout",
     "output_type": "stream",
     "text": [
      "[3]\n"
     ]
    }
   ],
   "source": [
    "array1 = [1, 2, 3]\n",
    "array2 = [3, 4, 5]\n",
    "\n",
    "result = list(filter(lambda x: x in array1, array2))\n",
    "\n",
    "print(result)"
   ]
  },
  {
   "cell_type": "markdown",
   "metadata": {},
   "source": [
    "## Problem 2\n",
    "Write a Python program to count the even and odd numbers in a given array of integers using Lambda."
   ]
  },
  {
   "cell_type": "code",
   "execution_count": 9,
   "metadata": {},
   "outputs": [
    {
     "name": "stdout",
     "output_type": "stream",
     "text": [
      "Even: 4\n",
      "Odd: 4\n"
     ]
    }
   ],
   "source": [
    "numbers = [1, 2, 3, 4, 5, 6, 7, 8, 9]\n",
    "\n",
    "evens = len(list(filter(lambda x: x % 2 == 0, numbers)))\n",
    "\n",
    "print(f\"Even: {evens}\\nOdd: {len(numbers)-evens}\")\n"
   ]
  },
  {
   "cell_type": "markdown",
   "metadata": {},
   "source": [
    "## Problem 3\n",
    "Given a list of integers from 1 to 15, perform the following operations using lambda functions:\n",
    "1. Use map() to add 5 to each number in the list.\n",
    "2. Use filter() to keep only the numbers that are divisible by 3.\n",
    "3. Use reduce() to find the sum of the remaining numbers.\n"
   ]
  },
  {
   "cell_type": "code",
   "execution_count": 16,
   "metadata": {},
   "outputs": [
    {
     "name": "stdout",
     "output_type": "stream",
     "text": [
      "[5, 6, 7, 8, 9, 10, 11, 12, 13, 14, 15, 16, 17, 18, 19, 20]\n",
      "[0, 3, 6, 9, 12, 15]\n",
      "120\n"
     ]
    }
   ],
   "source": [
    "from functools import reduce\n",
    "\n",
    "numbers = [0, 1, 2, 3, 4, 5, 6, 7, 8, 9, 10, 11, 12, 13, 14, 15]\n",
    "\n",
    "#1\n",
    "add5 = list(map(lambda x: x+5, numbers))\n",
    "print(add5)\n",
    "\n",
    "#2\n",
    "divBy3 = list(filter(lambda x: x % 3 == 0, numbers))\n",
    "print(divBy3)\n",
    "\n",
    "#3\n",
    "sumOfNumbers = reduce(lambda x, y: x+y, numbers)\n",
    "print(sumOfNumbers)\n"
   ]
  }
 ],
 "metadata": {
  "kernelspec": {
   "display_name": "Python 3",
   "language": "python",
   "name": "python3"
  },
  "language_info": {
   "codemirror_mode": {
    "name": "ipython",
    "version": 3
   },
   "file_extension": ".py",
   "mimetype": "text/x-python",
   "name": "python",
   "nbconvert_exporter": "python",
   "pygments_lexer": "ipython3",
   "version": "3.10.12"
  }
 },
 "nbformat": 4,
 "nbformat_minor": 2
}
